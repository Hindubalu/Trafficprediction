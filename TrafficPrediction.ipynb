{
  "nbformat": 4,
  "nbformat_minor": 0,
  "metadata": {
    "colab": {
      "provenance": []
    },
    "kernelspec": {
      "name": "python3",
      "display_name": "Python 3"
    },
    "language_info": {
      "name": "python"
    }
  },
  "cells": [
    {
      "cell_type": "code",
      "execution_count": 22,
      "metadata": {
        "id": "ZT2IAGHvNW8v"
      },
      "outputs": [],
      "source": [
        "import pandas as pd\n",
        "import numpy as np\n",
        "import seaborn as sns\n",
        "import matplotlib.pyplot as plt\n",
        "from sklearn.model_selection import train_test_split\n",
        "from sklearn.neighbors import KNeighborsClassifier"
      ]
    },
    {
      "cell_type": "code",
      "source": [
        "traffic=pd.read_csv(\"traffic.csv\")\n",
        "traffic.head()"
      ],
      "metadata": {
        "colab": {
          "base_uri": "https://localhost:8080/",
          "height": 287
        },
        "id": "LC8YUhGFOlNo",
        "outputId": "9a4f7d88-85d4-4cd5-9ed7-7dcd4443581d"
      },
      "execution_count": 9,
      "outputs": [
        {
          "output_type": "execute_result",
          "data": {
            "text/plain": [
              "         Date       Day Destination_Location  Fastest_Route_Distance  \\\n",
              "0  13/02/2020  Thursday           9th_avenue                    1000   \n",
              "1  13/02/2020  Thursday            centaurus                    1300   \n",
              "2  13/02/2020  Thursday          crown_plaza                    1000   \n",
              "3  13/02/2020  Thursday         roshan_plaza                    2700   \n",
              "4  13/02/2020  Thursday      salt_and_pepper                    3900   \n",
              "\n",
              "                        Fastest_Route_Name  Fastest_Route_Time Holiday  \\\n",
              "0                            Jinnah Avenue                  60      no   \n",
              "1                            Jinnah Avenue                 120      no   \n",
              "2  Jinnah Avenue and Faisal Avenue Flyover                  60      no   \n",
              "3                               Jinnah Ave                 180      no   \n",
              "4                               Jinnah Ave                 300      no   \n",
              "\n",
              "  Special_Condition Starting_Location  Sys_Time  Weather     Data_prediction  \n",
              "0                no  capital_gymkhana  00:00:01  Showers              smooth  \n",
              "1                no        9th_avenue  00:00:09  Showers    highly congested  \n",
              "2                no         centaurus  00:00:17  Showers              smooth  \n",
              "3                no       crown_plaza  00:00:24  Showers              smooth  \n",
              "4                no      roshan_plaza  00:00:31  Showers  slightly congested  "
            ],
            "text/html": [
              "\n",
              "  <div id=\"df-ba77f1a7-235d-45ae-93f6-f1cb54c77f7c\">\n",
              "    <div class=\"colab-df-container\">\n",
              "      <div>\n",
              "<style scoped>\n",
              "    .dataframe tbody tr th:only-of-type {\n",
              "        vertical-align: middle;\n",
              "    }\n",
              "\n",
              "    .dataframe tbody tr th {\n",
              "        vertical-align: top;\n",
              "    }\n",
              "\n",
              "    .dataframe thead th {\n",
              "        text-align: right;\n",
              "    }\n",
              "</style>\n",
              "<table border=\"1\" class=\"dataframe\">\n",
              "  <thead>\n",
              "    <tr style=\"text-align: right;\">\n",
              "      <th></th>\n",
              "      <th>Date</th>\n",
              "      <th>Day</th>\n",
              "      <th>Destination_Location</th>\n",
              "      <th>Fastest_Route_Distance</th>\n",
              "      <th>Fastest_Route_Name</th>\n",
              "      <th>Fastest_Route_Time</th>\n",
              "      <th>Holiday</th>\n",
              "      <th>Special_Condition</th>\n",
              "      <th>Starting_Location</th>\n",
              "      <th>Sys_Time</th>\n",
              "      <th>Weather</th>\n",
              "      <th>Data_prediction</th>\n",
              "    </tr>\n",
              "  </thead>\n",
              "  <tbody>\n",
              "    <tr>\n",
              "      <th>0</th>\n",
              "      <td>13/02/2020</td>\n",
              "      <td>Thursday</td>\n",
              "      <td>9th_avenue</td>\n",
              "      <td>1000</td>\n",
              "      <td>Jinnah Avenue</td>\n",
              "      <td>60</td>\n",
              "      <td>no</td>\n",
              "      <td>no</td>\n",
              "      <td>capital_gymkhana</td>\n",
              "      <td>00:00:01</td>\n",
              "      <td>Showers</td>\n",
              "      <td>smooth</td>\n",
              "    </tr>\n",
              "    <tr>\n",
              "      <th>1</th>\n",
              "      <td>13/02/2020</td>\n",
              "      <td>Thursday</td>\n",
              "      <td>centaurus</td>\n",
              "      <td>1300</td>\n",
              "      <td>Jinnah Avenue</td>\n",
              "      <td>120</td>\n",
              "      <td>no</td>\n",
              "      <td>no</td>\n",
              "      <td>9th_avenue</td>\n",
              "      <td>00:00:09</td>\n",
              "      <td>Showers</td>\n",
              "      <td>highly congested</td>\n",
              "    </tr>\n",
              "    <tr>\n",
              "      <th>2</th>\n",
              "      <td>13/02/2020</td>\n",
              "      <td>Thursday</td>\n",
              "      <td>crown_plaza</td>\n",
              "      <td>1000</td>\n",
              "      <td>Jinnah Avenue and Faisal Avenue Flyover</td>\n",
              "      <td>60</td>\n",
              "      <td>no</td>\n",
              "      <td>no</td>\n",
              "      <td>centaurus</td>\n",
              "      <td>00:00:17</td>\n",
              "      <td>Showers</td>\n",
              "      <td>smooth</td>\n",
              "    </tr>\n",
              "    <tr>\n",
              "      <th>3</th>\n",
              "      <td>13/02/2020</td>\n",
              "      <td>Thursday</td>\n",
              "      <td>roshan_plaza</td>\n",
              "      <td>2700</td>\n",
              "      <td>Jinnah Ave</td>\n",
              "      <td>180</td>\n",
              "      <td>no</td>\n",
              "      <td>no</td>\n",
              "      <td>crown_plaza</td>\n",
              "      <td>00:00:24</td>\n",
              "      <td>Showers</td>\n",
              "      <td>smooth</td>\n",
              "    </tr>\n",
              "    <tr>\n",
              "      <th>4</th>\n",
              "      <td>13/02/2020</td>\n",
              "      <td>Thursday</td>\n",
              "      <td>salt_and_pepper</td>\n",
              "      <td>3900</td>\n",
              "      <td>Jinnah Ave</td>\n",
              "      <td>300</td>\n",
              "      <td>no</td>\n",
              "      <td>no</td>\n",
              "      <td>roshan_plaza</td>\n",
              "      <td>00:00:31</td>\n",
              "      <td>Showers</td>\n",
              "      <td>slightly congested</td>\n",
              "    </tr>\n",
              "  </tbody>\n",
              "</table>\n",
              "</div>\n",
              "      <button class=\"colab-df-convert\" onclick=\"convertToInteractive('df-ba77f1a7-235d-45ae-93f6-f1cb54c77f7c')\"\n",
              "              title=\"Convert this dataframe to an interactive table.\"\n",
              "              style=\"display:none;\">\n",
              "        \n",
              "  <svg xmlns=\"http://www.w3.org/2000/svg\" height=\"24px\"viewBox=\"0 0 24 24\"\n",
              "       width=\"24px\">\n",
              "    <path d=\"M0 0h24v24H0V0z\" fill=\"none\"/>\n",
              "    <path d=\"M18.56 5.44l.94 2.06.94-2.06 2.06-.94-2.06-.94-.94-2.06-.94 2.06-2.06.94zm-11 1L8.5 8.5l.94-2.06 2.06-.94-2.06-.94L8.5 2.5l-.94 2.06-2.06.94zm10 10l.94 2.06.94-2.06 2.06-.94-2.06-.94-.94-2.06-.94 2.06-2.06.94z\"/><path d=\"M17.41 7.96l-1.37-1.37c-.4-.4-.92-.59-1.43-.59-.52 0-1.04.2-1.43.59L10.3 9.45l-7.72 7.72c-.78.78-.78 2.05 0 2.83L4 21.41c.39.39.9.59 1.41.59.51 0 1.02-.2 1.41-.59l7.78-7.78 2.81-2.81c.8-.78.8-2.07 0-2.86zM5.41 20L4 18.59l7.72-7.72 1.47 1.35L5.41 20z\"/>\n",
              "  </svg>\n",
              "      </button>\n",
              "      \n",
              "  <style>\n",
              "    .colab-df-container {\n",
              "      display:flex;\n",
              "      flex-wrap:wrap;\n",
              "      gap: 12px;\n",
              "    }\n",
              "\n",
              "    .colab-df-convert {\n",
              "      background-color: #E8F0FE;\n",
              "      border: none;\n",
              "      border-radius: 50%;\n",
              "      cursor: pointer;\n",
              "      display: none;\n",
              "      fill: #1967D2;\n",
              "      height: 32px;\n",
              "      padding: 0 0 0 0;\n",
              "      width: 32px;\n",
              "    }\n",
              "\n",
              "    .colab-df-convert:hover {\n",
              "      background-color: #E2EBFA;\n",
              "      box-shadow: 0px 1px 2px rgba(60, 64, 67, 0.3), 0px 1px 3px 1px rgba(60, 64, 67, 0.15);\n",
              "      fill: #174EA6;\n",
              "    }\n",
              "\n",
              "    [theme=dark] .colab-df-convert {\n",
              "      background-color: #3B4455;\n",
              "      fill: #D2E3FC;\n",
              "    }\n",
              "\n",
              "    [theme=dark] .colab-df-convert:hover {\n",
              "      background-color: #434B5C;\n",
              "      box-shadow: 0px 1px 3px 1px rgba(0, 0, 0, 0.15);\n",
              "      filter: drop-shadow(0px 1px 2px rgba(0, 0, 0, 0.3));\n",
              "      fill: #FFFFFF;\n",
              "    }\n",
              "  </style>\n",
              "\n",
              "      <script>\n",
              "        const buttonEl =\n",
              "          document.querySelector('#df-ba77f1a7-235d-45ae-93f6-f1cb54c77f7c button.colab-df-convert');\n",
              "        buttonEl.style.display =\n",
              "          google.colab.kernel.accessAllowed ? 'block' : 'none';\n",
              "\n",
              "        async function convertToInteractive(key) {\n",
              "          const element = document.querySelector('#df-ba77f1a7-235d-45ae-93f6-f1cb54c77f7c');\n",
              "          const dataTable =\n",
              "            await google.colab.kernel.invokeFunction('convertToInteractive',\n",
              "                                                     [key], {});\n",
              "          if (!dataTable) return;\n",
              "\n",
              "          const docLinkHtml = 'Like what you see? Visit the ' +\n",
              "            '<a target=\"_blank\" href=https://colab.research.google.com/notebooks/data_table.ipynb>data table notebook</a>'\n",
              "            + ' to learn more about interactive tables.';\n",
              "          element.innerHTML = '';\n",
              "          dataTable['output_type'] = 'display_data';\n",
              "          await google.colab.output.renderOutput(dataTable, element);\n",
              "          const docLink = document.createElement('div');\n",
              "          docLink.innerHTML = docLinkHtml;\n",
              "          element.appendChild(docLink);\n",
              "        }\n",
              "      </script>\n",
              "    </div>\n",
              "  </div>\n",
              "  "
            ]
          },
          "metadata": {},
          "execution_count": 9
        }
      ]
    },
    {
      "cell_type": "code",
      "source": [
        "traffic.info()"
      ],
      "metadata": {
        "colab": {
          "base_uri": "https://localhost:8080/"
        },
        "id": "Ql6Jq_f8QIvb",
        "outputId": "08744aa2-c0f2-4505-bffb-76924df7967e"
      },
      "execution_count": 10,
      "outputs": [
        {
          "output_type": "stream",
          "name": "stdout",
          "text": [
            "<class 'pandas.core.frame.DataFrame'>\n",
            "RangeIndex: 16388 entries, 0 to 16387\n",
            "Data columns (total 12 columns):\n",
            " #   Column                  Non-Null Count  Dtype \n",
            "---  ------                  --------------  ----- \n",
            " 0   Date                    16388 non-null  object\n",
            " 1   Day                     16388 non-null  object\n",
            " 2   Destination_Location    16388 non-null  object\n",
            " 3   Fastest_Route_Distance  16388 non-null  int64 \n",
            " 4   Fastest_Route_Name      16388 non-null  object\n",
            " 5   Fastest_Route_Time      16388 non-null  int64 \n",
            " 6   Holiday                 16388 non-null  object\n",
            " 7   Special_Condition       16388 non-null  object\n",
            " 8   Starting_Location       16388 non-null  object\n",
            " 9   Sys_Time                16388 non-null  object\n",
            " 10  Weather                 16388 non-null  object\n",
            " 11  Data_prediction         16388 non-null  object\n",
            "dtypes: int64(2), object(10)\n",
            "memory usage: 1.5+ MB\n"
          ]
        }
      ]
    },
    {
      "cell_type": "code",
      "source": [
        "traffic.describe()"
      ],
      "metadata": {
        "colab": {
          "base_uri": "https://localhost:8080/",
          "height": 300
        },
        "id": "7g2YcNWlQZn1",
        "outputId": "86fe3fa4-465a-47a3-9798-9e3af5b86750"
      },
      "execution_count": 11,
      "outputs": [
        {
          "output_type": "execute_result",
          "data": {
            "text/plain": [
              "       Fastest_Route_Distance  Fastest_Route_Time\n",
              "count            16388.000000        16388.000000\n",
              "mean              1608.768611          150.915304\n",
              "std                853.399148           80.324398\n",
              "min               1000.000000           60.000000\n",
              "25%               1000.000000          120.000000\n",
              "50%               1200.000000          120.000000\n",
              "75%               2100.000000          180.000000\n",
              "max               3900.000000          480.000000"
            ],
            "text/html": [
              "\n",
              "  <div id=\"df-71cedeb1-ad10-473f-966d-44830236fb8c\">\n",
              "    <div class=\"colab-df-container\">\n",
              "      <div>\n",
              "<style scoped>\n",
              "    .dataframe tbody tr th:only-of-type {\n",
              "        vertical-align: middle;\n",
              "    }\n",
              "\n",
              "    .dataframe tbody tr th {\n",
              "        vertical-align: top;\n",
              "    }\n",
              "\n",
              "    .dataframe thead th {\n",
              "        text-align: right;\n",
              "    }\n",
              "</style>\n",
              "<table border=\"1\" class=\"dataframe\">\n",
              "  <thead>\n",
              "    <tr style=\"text-align: right;\">\n",
              "      <th></th>\n",
              "      <th>Fastest_Route_Distance</th>\n",
              "      <th>Fastest_Route_Time</th>\n",
              "    </tr>\n",
              "  </thead>\n",
              "  <tbody>\n",
              "    <tr>\n",
              "      <th>count</th>\n",
              "      <td>16388.000000</td>\n",
              "      <td>16388.000000</td>\n",
              "    </tr>\n",
              "    <tr>\n",
              "      <th>mean</th>\n",
              "      <td>1608.768611</td>\n",
              "      <td>150.915304</td>\n",
              "    </tr>\n",
              "    <tr>\n",
              "      <th>std</th>\n",
              "      <td>853.399148</td>\n",
              "      <td>80.324398</td>\n",
              "    </tr>\n",
              "    <tr>\n",
              "      <th>min</th>\n",
              "      <td>1000.000000</td>\n",
              "      <td>60.000000</td>\n",
              "    </tr>\n",
              "    <tr>\n",
              "      <th>25%</th>\n",
              "      <td>1000.000000</td>\n",
              "      <td>120.000000</td>\n",
              "    </tr>\n",
              "    <tr>\n",
              "      <th>50%</th>\n",
              "      <td>1200.000000</td>\n",
              "      <td>120.000000</td>\n",
              "    </tr>\n",
              "    <tr>\n",
              "      <th>75%</th>\n",
              "      <td>2100.000000</td>\n",
              "      <td>180.000000</td>\n",
              "    </tr>\n",
              "    <tr>\n",
              "      <th>max</th>\n",
              "      <td>3900.000000</td>\n",
              "      <td>480.000000</td>\n",
              "    </tr>\n",
              "  </tbody>\n",
              "</table>\n",
              "</div>\n",
              "      <button class=\"colab-df-convert\" onclick=\"convertToInteractive('df-71cedeb1-ad10-473f-966d-44830236fb8c')\"\n",
              "              title=\"Convert this dataframe to an interactive table.\"\n",
              "              style=\"display:none;\">\n",
              "        \n",
              "  <svg xmlns=\"http://www.w3.org/2000/svg\" height=\"24px\"viewBox=\"0 0 24 24\"\n",
              "       width=\"24px\">\n",
              "    <path d=\"M0 0h24v24H0V0z\" fill=\"none\"/>\n",
              "    <path d=\"M18.56 5.44l.94 2.06.94-2.06 2.06-.94-2.06-.94-.94-2.06-.94 2.06-2.06.94zm-11 1L8.5 8.5l.94-2.06 2.06-.94-2.06-.94L8.5 2.5l-.94 2.06-2.06.94zm10 10l.94 2.06.94-2.06 2.06-.94-2.06-.94-.94-2.06-.94 2.06-2.06.94z\"/><path d=\"M17.41 7.96l-1.37-1.37c-.4-.4-.92-.59-1.43-.59-.52 0-1.04.2-1.43.59L10.3 9.45l-7.72 7.72c-.78.78-.78 2.05 0 2.83L4 21.41c.39.39.9.59 1.41.59.51 0 1.02-.2 1.41-.59l7.78-7.78 2.81-2.81c.8-.78.8-2.07 0-2.86zM5.41 20L4 18.59l7.72-7.72 1.47 1.35L5.41 20z\"/>\n",
              "  </svg>\n",
              "      </button>\n",
              "      \n",
              "  <style>\n",
              "    .colab-df-container {\n",
              "      display:flex;\n",
              "      flex-wrap:wrap;\n",
              "      gap: 12px;\n",
              "    }\n",
              "\n",
              "    .colab-df-convert {\n",
              "      background-color: #E8F0FE;\n",
              "      border: none;\n",
              "      border-radius: 50%;\n",
              "      cursor: pointer;\n",
              "      display: none;\n",
              "      fill: #1967D2;\n",
              "      height: 32px;\n",
              "      padding: 0 0 0 0;\n",
              "      width: 32px;\n",
              "    }\n",
              "\n",
              "    .colab-df-convert:hover {\n",
              "      background-color: #E2EBFA;\n",
              "      box-shadow: 0px 1px 2px rgba(60, 64, 67, 0.3), 0px 1px 3px 1px rgba(60, 64, 67, 0.15);\n",
              "      fill: #174EA6;\n",
              "    }\n",
              "\n",
              "    [theme=dark] .colab-df-convert {\n",
              "      background-color: #3B4455;\n",
              "      fill: #D2E3FC;\n",
              "    }\n",
              "\n",
              "    [theme=dark] .colab-df-convert:hover {\n",
              "      background-color: #434B5C;\n",
              "      box-shadow: 0px 1px 3px 1px rgba(0, 0, 0, 0.15);\n",
              "      filter: drop-shadow(0px 1px 2px rgba(0, 0, 0, 0.3));\n",
              "      fill: #FFFFFF;\n",
              "    }\n",
              "  </style>\n",
              "\n",
              "      <script>\n",
              "        const buttonEl =\n",
              "          document.querySelector('#df-71cedeb1-ad10-473f-966d-44830236fb8c button.colab-df-convert');\n",
              "        buttonEl.style.display =\n",
              "          google.colab.kernel.accessAllowed ? 'block' : 'none';\n",
              "\n",
              "        async function convertToInteractive(key) {\n",
              "          const element = document.querySelector('#df-71cedeb1-ad10-473f-966d-44830236fb8c');\n",
              "          const dataTable =\n",
              "            await google.colab.kernel.invokeFunction('convertToInteractive',\n",
              "                                                     [key], {});\n",
              "          if (!dataTable) return;\n",
              "\n",
              "          const docLinkHtml = 'Like what you see? Visit the ' +\n",
              "            '<a target=\"_blank\" href=https://colab.research.google.com/notebooks/data_table.ipynb>data table notebook</a>'\n",
              "            + ' to learn more about interactive tables.';\n",
              "          element.innerHTML = '';\n",
              "          dataTable['output_type'] = 'display_data';\n",
              "          await google.colab.output.renderOutput(dataTable, element);\n",
              "          const docLink = document.createElement('div');\n",
              "          docLink.innerHTML = docLinkHtml;\n",
              "          element.appendChild(docLink);\n",
              "        }\n",
              "      </script>\n",
              "    </div>\n",
              "  </div>\n",
              "  "
            ]
          },
          "metadata": {},
          "execution_count": 11
        }
      ]
    },
    {
      "cell_type": "code",
      "source": [
        "traffic.columns"
      ],
      "metadata": {
        "colab": {
          "base_uri": "https://localhost:8080/"
        },
        "id": "buAalvs2QpiI",
        "outputId": "c3ded108-fbef-4327-eb57-ef0806ad5582"
      },
      "execution_count": 13,
      "outputs": [
        {
          "output_type": "execute_result",
          "data": {
            "text/plain": [
              "Index(['Date', 'Day', 'Destination_Location', 'Fastest_Route_Distance',\n",
              "       'Fastest_Route_Name', 'Fastest_Route_Time', 'Holiday',\n",
              "       'Special_Condition', 'Starting_Location', 'Sys_Time', 'Weather',\n",
              "       'Data_prediction'],\n",
              "      dtype='object')"
            ]
          },
          "metadata": {},
          "execution_count": 13
        }
      ]
    },
    {
      "cell_type": "code",
      "source": [
        "traffic.tail()"
      ],
      "metadata": {
        "colab": {
          "base_uri": "https://localhost:8080/",
          "height": 305
        },
        "id": "hW-w7SOZVBy4",
        "outputId": "28e356d2-7b75-4891-8c7a-05ae1e6c192f"
      },
      "execution_count": 23,
      "outputs": [
        {
          "output_type": "execute_result",
          "data": {
            "text/plain": [
              "          Day Destination_Location  Fastest_Route_Distance  \\\n",
              "16383  Friday          crown_plaza                    1000   \n",
              "16384  Friday         roshan_plaza                    2700   \n",
              "16385  Friday      salt_and_pepper                    3900   \n",
              "16386  Friday       bar_bq_tonight                    1600   \n",
              "16387  Friday              D_chowk                    2100   \n",
              "\n",
              "                            Fastest_Route_Name  Fastest_Route_Time  \\\n",
              "16383  Jinnah Avenue and Faisal Avenue Flyover                  60   \n",
              "16384                               Jinnah Ave                 180   \n",
              "16385                               Jinnah Ave                 300   \n",
              "16386                               Jinnah Ave                 180   \n",
              "16387       A.K. Fazl-ul-Haq Rd and Jinnah Ave                 300   \n",
              "\n",
              "      Starting_Location Weather     Data_prediction  \n",
              "16383         centaurus   Clear              smooth  \n",
              "16384       crown_plaza   Clear              smooth  \n",
              "16385      roshan_plaza   Clear  slightly congested  \n",
              "16386   salt_and_pepper   Clear           congested  \n",
              "16387    bar_bq_tonight   Clear  slightly congested  "
            ],
            "text/html": [
              "\n",
              "  <div id=\"df-e13676ff-372d-4914-914e-412334d3be90\">\n",
              "    <div class=\"colab-df-container\">\n",
              "      <div>\n",
              "<style scoped>\n",
              "    .dataframe tbody tr th:only-of-type {\n",
              "        vertical-align: middle;\n",
              "    }\n",
              "\n",
              "    .dataframe tbody tr th {\n",
              "        vertical-align: top;\n",
              "    }\n",
              "\n",
              "    .dataframe thead th {\n",
              "        text-align: right;\n",
              "    }\n",
              "</style>\n",
              "<table border=\"1\" class=\"dataframe\">\n",
              "  <thead>\n",
              "    <tr style=\"text-align: right;\">\n",
              "      <th></th>\n",
              "      <th>Day</th>\n",
              "      <th>Destination_Location</th>\n",
              "      <th>Fastest_Route_Distance</th>\n",
              "      <th>Fastest_Route_Name</th>\n",
              "      <th>Fastest_Route_Time</th>\n",
              "      <th>Starting_Location</th>\n",
              "      <th>Weather</th>\n",
              "      <th>Data_prediction</th>\n",
              "    </tr>\n",
              "  </thead>\n",
              "  <tbody>\n",
              "    <tr>\n",
              "      <th>16383</th>\n",
              "      <td>Friday</td>\n",
              "      <td>crown_plaza</td>\n",
              "      <td>1000</td>\n",
              "      <td>Jinnah Avenue and Faisal Avenue Flyover</td>\n",
              "      <td>60</td>\n",
              "      <td>centaurus</td>\n",
              "      <td>Clear</td>\n",
              "      <td>smooth</td>\n",
              "    </tr>\n",
              "    <tr>\n",
              "      <th>16384</th>\n",
              "      <td>Friday</td>\n",
              "      <td>roshan_plaza</td>\n",
              "      <td>2700</td>\n",
              "      <td>Jinnah Ave</td>\n",
              "      <td>180</td>\n",
              "      <td>crown_plaza</td>\n",
              "      <td>Clear</td>\n",
              "      <td>smooth</td>\n",
              "    </tr>\n",
              "    <tr>\n",
              "      <th>16385</th>\n",
              "      <td>Friday</td>\n",
              "      <td>salt_and_pepper</td>\n",
              "      <td>3900</td>\n",
              "      <td>Jinnah Ave</td>\n",
              "      <td>300</td>\n",
              "      <td>roshan_plaza</td>\n",
              "      <td>Clear</td>\n",
              "      <td>slightly congested</td>\n",
              "    </tr>\n",
              "    <tr>\n",
              "      <th>16386</th>\n",
              "      <td>Friday</td>\n",
              "      <td>bar_bq_tonight</td>\n",
              "      <td>1600</td>\n",
              "      <td>Jinnah Ave</td>\n",
              "      <td>180</td>\n",
              "      <td>salt_and_pepper</td>\n",
              "      <td>Clear</td>\n",
              "      <td>congested</td>\n",
              "    </tr>\n",
              "    <tr>\n",
              "      <th>16387</th>\n",
              "      <td>Friday</td>\n",
              "      <td>D_chowk</td>\n",
              "      <td>2100</td>\n",
              "      <td>A.K. Fazl-ul-Haq Rd and Jinnah Ave</td>\n",
              "      <td>300</td>\n",
              "      <td>bar_bq_tonight</td>\n",
              "      <td>Clear</td>\n",
              "      <td>slightly congested</td>\n",
              "    </tr>\n",
              "  </tbody>\n",
              "</table>\n",
              "</div>\n",
              "      <button class=\"colab-df-convert\" onclick=\"convertToInteractive('df-e13676ff-372d-4914-914e-412334d3be90')\"\n",
              "              title=\"Convert this dataframe to an interactive table.\"\n",
              "              style=\"display:none;\">\n",
              "        \n",
              "  <svg xmlns=\"http://www.w3.org/2000/svg\" height=\"24px\"viewBox=\"0 0 24 24\"\n",
              "       width=\"24px\">\n",
              "    <path d=\"M0 0h24v24H0V0z\" fill=\"none\"/>\n",
              "    <path d=\"M18.56 5.44l.94 2.06.94-2.06 2.06-.94-2.06-.94-.94-2.06-.94 2.06-2.06.94zm-11 1L8.5 8.5l.94-2.06 2.06-.94-2.06-.94L8.5 2.5l-.94 2.06-2.06.94zm10 10l.94 2.06.94-2.06 2.06-.94-2.06-.94-.94-2.06-.94 2.06-2.06.94z\"/><path d=\"M17.41 7.96l-1.37-1.37c-.4-.4-.92-.59-1.43-.59-.52 0-1.04.2-1.43.59L10.3 9.45l-7.72 7.72c-.78.78-.78 2.05 0 2.83L4 21.41c.39.39.9.59 1.41.59.51 0 1.02-.2 1.41-.59l7.78-7.78 2.81-2.81c.8-.78.8-2.07 0-2.86zM5.41 20L4 18.59l7.72-7.72 1.47 1.35L5.41 20z\"/>\n",
              "  </svg>\n",
              "      </button>\n",
              "      \n",
              "  <style>\n",
              "    .colab-df-container {\n",
              "      display:flex;\n",
              "      flex-wrap:wrap;\n",
              "      gap: 12px;\n",
              "    }\n",
              "\n",
              "    .colab-df-convert {\n",
              "      background-color: #E8F0FE;\n",
              "      border: none;\n",
              "      border-radius: 50%;\n",
              "      cursor: pointer;\n",
              "      display: none;\n",
              "      fill: #1967D2;\n",
              "      height: 32px;\n",
              "      padding: 0 0 0 0;\n",
              "      width: 32px;\n",
              "    }\n",
              "\n",
              "    .colab-df-convert:hover {\n",
              "      background-color: #E2EBFA;\n",
              "      box-shadow: 0px 1px 2px rgba(60, 64, 67, 0.3), 0px 1px 3px 1px rgba(60, 64, 67, 0.15);\n",
              "      fill: #174EA6;\n",
              "    }\n",
              "\n",
              "    [theme=dark] .colab-df-convert {\n",
              "      background-color: #3B4455;\n",
              "      fill: #D2E3FC;\n",
              "    }\n",
              "\n",
              "    [theme=dark] .colab-df-convert:hover {\n",
              "      background-color: #434B5C;\n",
              "      box-shadow: 0px 1px 3px 1px rgba(0, 0, 0, 0.15);\n",
              "      filter: drop-shadow(0px 1px 2px rgba(0, 0, 0, 0.3));\n",
              "      fill: #FFFFFF;\n",
              "    }\n",
              "  </style>\n",
              "\n",
              "      <script>\n",
              "        const buttonEl =\n",
              "          document.querySelector('#df-e13676ff-372d-4914-914e-412334d3be90 button.colab-df-convert');\n",
              "        buttonEl.style.display =\n",
              "          google.colab.kernel.accessAllowed ? 'block' : 'none';\n",
              "\n",
              "        async function convertToInteractive(key) {\n",
              "          const element = document.querySelector('#df-e13676ff-372d-4914-914e-412334d3be90');\n",
              "          const dataTable =\n",
              "            await google.colab.kernel.invokeFunction('convertToInteractive',\n",
              "                                                     [key], {});\n",
              "          if (!dataTable) return;\n",
              "\n",
              "          const docLinkHtml = 'Like what you see? Visit the ' +\n",
              "            '<a target=\"_blank\" href=https://colab.research.google.com/notebooks/data_table.ipynb>data table notebook</a>'\n",
              "            + ' to learn more about interactive tables.';\n",
              "          element.innerHTML = '';\n",
              "          dataTable['output_type'] = 'display_data';\n",
              "          await google.colab.output.renderOutput(dataTable, element);\n",
              "          const docLink = document.createElement('div');\n",
              "          docLink.innerHTML = docLinkHtml;\n",
              "          element.appendChild(docLink);\n",
              "        }\n",
              "      </script>\n",
              "    </div>\n",
              "  </div>\n",
              "  "
            ]
          },
          "metadata": {},
          "execution_count": 23
        }
      ]
    },
    {
      "cell_type": "code",
      "source": [
        "traffic.groupby('Data_prediction').size()"
      ],
      "metadata": {
        "colab": {
          "base_uri": "https://localhost:8080/"
        },
        "id": "lfA9_pleQxFT",
        "outputId": "0af047fb-3d45-49bd-ba56-18cff81a8f22"
      },
      "execution_count": 16,
      "outputs": [
        {
          "output_type": "execute_result",
          "data": {
            "text/plain": [
              "Data_prediction\n",
              "blockage                57\n",
              "congested              903\n",
              "highly congested      5713\n",
              "slightly congested    1676\n",
              "smooth                8039\n",
              "dtype: int64"
            ]
          },
          "metadata": {},
          "execution_count": 16
        }
      ]
    },
    {
      "cell_type": "code",
      "source": [
        "traffic['Holiday'].value_counts()"
      ],
      "metadata": {
        "colab": {
          "base_uri": "https://localhost:8080/"
        },
        "id": "kBB37bFTSZvP",
        "outputId": "2f632fc0-5dc6-4aa5-b095-b346e9ae0b40"
      },
      "execution_count": 17,
      "outputs": [
        {
          "output_type": "execute_result",
          "data": {
            "text/plain": [
              "no    16388\n",
              "Name: Holiday, dtype: int64"
            ]
          },
          "metadata": {},
          "execution_count": 17
        }
      ]
    },
    {
      "cell_type": "code",
      "source": [
        "traffic['Special_Condition'].value_counts()"
      ],
      "metadata": {
        "colab": {
          "base_uri": "https://localhost:8080/"
        },
        "id": "u97BhpbzSpVt",
        "outputId": "6d6a7542-545e-4cf3-967b-98e60f05e5aa"
      },
      "execution_count": 18,
      "outputs": [
        {
          "output_type": "execute_result",
          "data": {
            "text/plain": [
              "no    16388\n",
              "Name: Special_Condition, dtype: int64"
            ]
          },
          "metadata": {},
          "execution_count": 18
        }
      ]
    },
    {
      "cell_type": "code",
      "source": [
        "traffic=traffic.drop(['Date','Holiday','Special_Condition','Sys_Time'],1)"
      ],
      "metadata": {
        "colab": {
          "base_uri": "https://localhost:8080/"
        },
        "id": "nk8GOHV3S7Ag",
        "outputId": "45a39bbd-b444-477a-a695-b67e2911d293"
      },
      "execution_count": 19,
      "outputs": [
        {
          "output_type": "stream",
          "name": "stderr",
          "text": [
            "<ipython-input-19-78735a9923b3>:1: FutureWarning: In a future version of pandas all arguments of DataFrame.drop except for the argument 'labels' will be keyword-only.\n",
            "  traffic=traffic.drop(['Date','Holiday','Special_Condition','Sys_Time'],1)\n"
          ]
        }
      ]
    },
    {
      "cell_type": "code",
      "source": [
        "traffic['Day'].value_counts()"
      ],
      "metadata": {
        "colab": {
          "base_uri": "https://localhost:8080/"
        },
        "id": "nHpzKCNhTcNF",
        "outputId": "be85f6a0-b72e-48ad-b3d5-0d1689314386"
      },
      "execution_count": 20,
      "outputs": [
        {
          "output_type": "execute_result",
          "data": {
            "text/plain": [
              "Friday       5300\n",
              "Thursday     4132\n",
              "Wednesday    1948\n",
              "Sunday       1547\n",
              "Saturday     1538\n",
              "Monday       1195\n",
              "Tuesday       728\n",
              "Name: Day, dtype: int64"
            ]
          },
          "metadata": {},
          "execution_count": 20
        }
      ]
    },
    {
      "cell_type": "code",
      "source": [
        "traffic['Destination_Location'].value_counts()"
      ],
      "metadata": {
        "colab": {
          "base_uri": "https://localhost:8080/"
        },
        "id": "ayDYgn6sTw1d",
        "outputId": "3b247d3b-0ea0-4edd-debb-49c8bf8273a4"
      },
      "execution_count": 24,
      "outputs": [
        {
          "output_type": "execute_result",
          "data": {
            "text/plain": [
              "9th_avenue                              1370\n",
              "centaurus                               1370\n",
              "crown_plaza                             1370\n",
              "roshan_plaza                            1370\n",
              "salt_and_pepper                         1367\n",
              "capital_gymkhana                        1366\n",
              "missile_chowk                           1364\n",
              "bar_bq_tonight                          1363\n",
              "pak_turk_maarif_international_school    1363\n",
              "childrens_park                          1362\n",
              "jamia_masjid                            1362\n",
              "D_chowk                                 1361\n",
              "Name: Destination_Location, dtype: int64"
            ]
          },
          "metadata": {},
          "execution_count": 24
        }
      ]
    },
    {
      "cell_type": "code",
      "source": [
        "traffic['Starting_Location'].value_counts()"
      ],
      "metadata": {
        "colab": {
          "base_uri": "https://localhost:8080/"
        },
        "id": "YGTkbaySVLmU",
        "outputId": "9b32893d-fabc-46b7-f7c7-41e3917d2371"
      },
      "execution_count": 25,
      "outputs": [
        {
          "output_type": "execute_result",
          "data": {
            "text/plain": [
              "capital_gymkhana                        1370\n",
              "9th_avenue                              1370\n",
              "centaurus                               1370\n",
              "crown_plaza                             1370\n",
              "roshan_plaza                            1367\n",
              "missile_chowk                           1366\n",
              "jamia_masjid                            1364\n",
              "salt_and_pepper                         1363\n",
              "childrens_park                          1363\n",
              "bahria_foundation_school                1362\n",
              "pak_turk_maarif_international_school    1362\n",
              "bar_bq_tonight                          1361\n",
              "Name: Starting_Location, dtype: int64"
            ]
          },
          "metadata": {},
          "execution_count": 25
        }
      ]
    },
    {
      "cell_type": "code",
      "source": [
        "traffic['Fastest_Route_Name'].value_counts()"
      ],
      "metadata": {
        "colab": {
          "base_uri": "https://localhost:8080/"
        },
        "id": "88UxDsy-VqDB",
        "outputId": "37b3203c-a3a8-480b-eeba-8d1d68260f5f"
      },
      "execution_count": 26,
      "outputs": [
        {
          "output_type": "execute_result",
          "data": {
            "text/plain": [
              "Nazim-ud-din Rd                            5451\n",
              "Jinnah Avenue                              4106\n",
              "Jinnah Ave                                 4098\n",
              "Jinnah Avenue and Faisal Avenue Flyover    1370\n",
              "A.K. Fazl-ul-Haq Rd and Jinnah Ave         1361\n",
              "Nazim-ud-din Rd and Jinnah Ave                1\n",
              "A.K. Fazl-ul-Haq Rd                           1\n",
              "Name: Fastest_Route_Name, dtype: int64"
            ]
          },
          "metadata": {},
          "execution_count": 26
        }
      ]
    },
    {
      "cell_type": "code",
      "source": [
        "traffic['Weather'].value_counts()"
      ],
      "metadata": {
        "colab": {
          "base_uri": "https://localhost:8080/"
        },
        "id": "WFvWu2pHV4mx",
        "outputId": "4d19c591-c435-4fd3-d58e-96d8b67e4414"
      },
      "execution_count": 27,
      "outputs": [
        {
          "output_type": "execute_result",
          "data": {
            "text/plain": [
              "Clear            4464\n",
              "Sunny            3192\n",
              "Cloudy           2948\n",
              "Mostly Cloudy    1411\n",
              "Showers          1236\n",
              "Mostly Sunny     1177\n",
              "Partly Cloudy    1172\n",
              "Mostly Clear      668\n",
              "Rain              120\n",
              "Name: Weather, dtype: int64"
            ]
          },
          "metadata": {},
          "execution_count": 27
        }
      ]
    },
    {
      "cell_type": "code",
      "source": [
        "traffic['Data_prediction'].value_counts()"
      ],
      "metadata": {
        "colab": {
          "base_uri": "https://localhost:8080/"
        },
        "id": "jxPEDCNvWDWl",
        "outputId": "07a243b6-9252-43a5-d635-d0286bd336ed"
      },
      "execution_count": 28,
      "outputs": [
        {
          "output_type": "execute_result",
          "data": {
            "text/plain": [
              "smooth                8039\n",
              "highly congested      5713\n",
              "slightly congested    1676\n",
              "congested              903\n",
              "blockage                57\n",
              "Name: Data_prediction, dtype: int64"
            ]
          },
          "metadata": {},
          "execution_count": 28
        }
      ]
    },
    {
      "cell_type": "code",
      "source": [
        "plt.rcParams['figure.figsize']=(10,5)\n",
        "sns.set_theme(style='darkgrid')\n",
        "vplt1=sns.countplot(data=traffic,x='Data_prediction',hue='Weather',palette='plasma',saturation=0.8)\n",
        "vplt1.legend(bbox_to_anchor=(1,1),loc='upper left')\n",
        "vplt1.set_xlabel('prediction',fontsize=15)"
      ],
      "metadata": {
        "colab": {
          "base_uri": "https://localhost:8080/",
          "height": 311
        },
        "id": "r6X0oB7-WRRr",
        "outputId": "0e5e6913-5035-4d24-d756-a23a648d9e42"
      },
      "execution_count": 31,
      "outputs": [
        {
          "output_type": "execute_result",
          "data": {
            "text/plain": [
              "Text(0.5, 0, 'prediction')"
            ]
          },
          "metadata": {},
          "execution_count": 31
        },
        {
          "output_type": "display_data",
          "data": {
            "text/plain": [
              "<Figure size 1000x500 with 1 Axes>"
            ],
            "image/png": "[encoded data removed]"
          },
          "metadata": {}
        }
      ]
    },
    {
      "cell_type": "code",
      "source": [
        "plt.rcParams['figure.figsize']=(10,5)\n",
        "sns.set_theme(style='darkgrid')\n",
        "vplt2=sns.countplot(data=traffic,x='Data_prediction',hue='Day',palette='gist_earth',saturation=0.8)\n",
        "vplt2.legend(bbox_to_anchor=(1,1),loc='upper left')\n",
        "vplt2.set_xlabel('prediction',fontsize=15)"
      ],
      "metadata": {
        "colab": {
          "base_uri": "https://localhost:8080/",
          "height": 316
        },
        "id": "gkkeLSzqYeRy",
        "outputId": "bbd42ccb-5d51-420b-f150-bd8d6b5e3e25"
      },
      "execution_count": 32,
      "outputs": [
        {
          "output_type": "execute_result",
          "data": {
            "text/plain": [
              "Text(0.5, 0, 'prediction')"
            ]
          },
          "metadata": {},
          "execution_count": 32
        },
        {
          "output_type": "display_data",
          "data": {
            "text/plain": [
              "<Figure size 1000x500 with 1 Axes>"
            ],
            "image/png": "[encoded data removed]"
          },
          "metadata": {}
        }
      ]
    },
    {
      "cell_type": "code",
      "source": [
        "plt.rcParams['figure.figsize']=(20,9)\n",
        "sns.set_theme(style='darkgrid')\n",
        "vplt3=sns.barplot(data=traffic,x='Fastest_Route_Name',y='Fastest_Route_Time',hue='Day',palette='gist_rainbow')\n",
        "vplt3.legend(bbox_to_anchor=(1,1))\n",
        "plt.title('Fastest_Route_Timings VS Fastest_Route_Name based on Day',fontsize=22)\n",
        "vplt3.set_xlabel('Fastest_Route_Name',fontsize=17)\n",
        "vplt3.set_ylabel('Fastest_Route_Time',fontsize=17)"
      ],
      "metadata": {
        "colab": {
          "base_uri": "https://localhost:8080/",
          "height": 315
        },
        "id": "5rWzoOeHY1eN",
        "outputId": "af392cf9-f4e1-437c-b93e-7bdd2b5ca9bd"
      },
      "execution_count": 34,
      "outputs": [
        {
          "output_type": "execute_result",
          "data": {
            "text/plain": [
              "Text(0, 0.5, 'Fastest_Route_Time')"
            ]
          },
          "metadata": {},
          "execution_count": 34
        },
        {
          "output_type": "display_data",
          "data": {
            "text/plain": [
              "<Figure size 2000x900 with 1 Axes>"
            ],
            "image/png": "[encoded data removed]"
          },
          "metadata": {}
        }
      ]
    },
    {
      "cell_type": "code",
      "source": [
        "traffic['Day'].replace(['Sunday','Monday','Tuesday','Wednesday','Thursday','Friday','Saturday'])"
      ],
      "metadata": {
        "colab": {
          "base_uri": "https://localhost:8080/"
        },
        "id": "tkQhMZbNZlUX",
        "outputId": "cdaa660b-85e0-4d32-895b-0e8e3c63a08b"
      },
      "execution_count": 35,
      "outputs": [
        {
          "output_type": "execute_result",
          "data": {
            "text/plain": [
              "0        Thursday\n",
              "1        Thursday\n",
              "2        Thursday\n",
              "3        Thursday\n",
              "4        Thursday\n",
              "           ...   \n",
              "16383    Thursday\n",
              "16384    Thursday\n",
              "16385    Thursday\n",
              "16386    Thursday\n",
              "16387    Thursday\n",
              "Name: Day, Length: 16388, dtype: object"
            ]
          },
          "metadata": {},
          "execution_count": 35
        }
      ]
    },
    {
      "cell_type": "code",
      "source": [
        "traffic['Destination_Location'].replace(['9th_avenue','centaurus','roshan_plaza','salt_and_pepper','capital_gymkhana','missile_chowk','bar_bq_tonight','pak_turk_maarif_international_school','childrens_park','jamia_masjid','D_chowk '])"
      ],
      "metadata": {
        "colab": {
          "base_uri": "https://localhost:8080/"
        },
        "id": "MGbNUJ3CaHZx",
        "outputId": "ae20bbb1-de10-447b-a3e6-d20742192f64"
      },
      "execution_count": 36,
      "outputs": [
        {
          "output_type": "execute_result",
          "data": {
            "text/plain": [
              "0         9th_avenue\n",
              "1         9th_avenue\n",
              "2        crown_plaza\n",
              "3        crown_plaza\n",
              "4        crown_plaza\n",
              "            ...     \n",
              "16383    crown_plaza\n",
              "16384    crown_plaza\n",
              "16385    crown_plaza\n",
              "16386    crown_plaza\n",
              "16387        D_chowk\n",
              "Name: Destination_Location, Length: 16388, dtype: object"
            ]
          },
          "metadata": {},
          "execution_count": 36
        }
      ]
    },
    {
      "cell_type": "code",
      "source": [
        "traffic['Starting_Location'].replace(['9th_avenue','centaurus','roshan_plaza','salt_and_pepper','capital_gymkhana','missile_chowk','bar_bq_tonight','pak_turk_maarif_international_school','childrens_park','jamia_masjid','D_chowk '])"
      ],
      "metadata": {
        "colab": {
          "base_uri": "https://localhost:8080/"
        },
        "id": "0BzSOgyDbtZb",
        "outputId": "07de368b-8e71-428e-adeb-8231458e3432"
      },
      "execution_count": 37,
      "outputs": [
        {
          "output_type": "execute_result",
          "data": {
            "text/plain": [
              "0                capital_gymkhana\n",
              "1                capital_gymkhana\n",
              "2                capital_gymkhana\n",
              "3                     crown_plaza\n",
              "4                     crown_plaza\n",
              "                   ...           \n",
              "16383    bahria_foundation_school\n",
              "16384                 crown_plaza\n",
              "16385                 crown_plaza\n",
              "16386                 crown_plaza\n",
              "16387                 crown_plaza\n",
              "Name: Starting_Location, Length: 16388, dtype: object"
            ]
          },
          "metadata": {},
          "execution_count": 37
        }
      ]
    },
    {
      "cell_type": "code",
      "source": [
        "traffic['Weather'].replace(['Clear','Sunny','Cloudy','Mostly Cloudy','Showers','Mostly Sunny','Partly Cloudy','Mostly Clear','Rain'])"
      ],
      "metadata": {
        "colab": {
          "base_uri": "https://localhost:8080/"
        },
        "id": "cAc5GXqJcTan",
        "outputId": "2d1a66f0-4d52-41bf-af83-a5569bb28686"
      },
      "execution_count": 38,
      "outputs": [
        {
          "output_type": "execute_result",
          "data": {
            "text/plain": [
              "0        Showers\n",
              "1        Showers\n",
              "2        Showers\n",
              "3        Showers\n",
              "4        Showers\n",
              "          ...   \n",
              "16383    Showers\n",
              "16384    Showers\n",
              "16385    Showers\n",
              "16386    Showers\n",
              "16387    Showers\n",
              "Name: Weather, Length: 16388, dtype: object"
            ]
          },
          "metadata": {},
          "execution_count": 38
        }
      ]
    },
    {
      "cell_type": "code",
      "source": [
        "traffic['Data_prediction'].replace(['smooth','highly congested','slightly congested','congested','blockage'])"
      ],
      "metadata": {
        "colab": {
          "base_uri": "https://localhost:8080/"
        },
        "id": "c97JtsNLdHCf",
        "outputId": "c368e114-59ed-4f41-c9b1-80ee7f0c3728"
      },
      "execution_count": 41,
      "outputs": [
        {
          "output_type": "execute_result",
          "data": {
            "text/plain": [
              "0        0\n",
              "1        1\n",
              "2        0\n",
              "3        0\n",
              "4        2\n",
              "        ..\n",
              "16383    0\n",
              "16384    0\n",
              "16385    2\n",
              "16386    3\n",
              "16387    2\n",
              "Name: Data_prediction, Length: 16388, dtype: int64"
            ]
          },
          "metadata": {},
          "execution_count": 41
        }
      ]
    },
    {
      "cell_type": "code",
      "source": [
        "corrmat=traffic.corr()\n",
        "sns.heatmap(corrmat,cmap='jet',annot=True,square=True)"
      ],
      "metadata": {
        "colab": {
          "base_uri": "https://localhost:8080/",
          "height": 617
        },
        "id": "ldL5asc6eTsU",
        "outputId": "865b9aa3-96f1-4830-93b8-5a0a2099273a"
      },
      "execution_count": 74,
      "outputs": [
        {
          "output_type": "stream",
          "name": "stderr",
          "text": [
            "<ipython-input-74-a59649c1928c>:1: FutureWarning: The default value of numeric_only in DataFrame.corr is deprecated. In a future version, it will default to False. Select only valid columns or specify the value of numeric_only to silence this warning.\n",
            "  corrmat=traffic.corr()\n"
          ]
        },
        {
          "output_type": "execute_result",
          "data": {
            "text/plain": [
              "<Axes: >"
            ]
          },
          "metadata": {},
          "execution_count": 74
        },
        {
          "output_type": "display_data",
          "data": {
            "text/plain": [
              "<Figure size 2000x900 with 2 Axes>"
            ],
            "image/png": "[encoded data removed]"
          },
          "metadata": {}
        }
      ]
    },
    {
      "cell_type": "code",
      "source": [
        "from sklearn.model_selection import train_test_split\n",
        "from sklearn.linear_model import LogisticRegression\n",
        "x=traffic.drop(\"Data_prediction\",1)\n",
        "y=traffic[[\"Data_prediction\"]]"
      ],
      "metadata": {
        "colab": {
          "base_uri": "https://localhost:8080/"
        },
        "id": "UVSQzNVgkUuy",
        "outputId": "99d9365d-408e-4e16-a53b-922c0bb721ba"
      },
      "execution_count": 59,
      "outputs": [
        {
          "output_type": "stream",
          "name": "stderr",
          "text": [
            "<ipython-input-59-fdaf288ceeca>:3: FutureWarning: In a future version of pandas all arguments of DataFrame.drop except for the argument 'labels' will be keyword-only.\n",
            "  x=traffic.drop(\"Data_prediction\",1)\n"
          ]
        }
      ]
    },
    {
      "cell_type": "code",
      "source": [
        "x_train,x_test,y_train,y_test=train_test_split(x,y,test_size=0.3,random_state=1)"
      ],
      "metadata": {
        "id": "Eo2IlkGzf7i3"
      },
      "execution_count": 60,
      "outputs": []
    },
    {
      "cell_type": "code",
      "source": [
        "model=LogisticRegression(random_state=1,solver='lbfgs',max_iter=10000)"
      ],
      "metadata": {
        "id": "iu012wTVj5jW"
      },
      "execution_count": 69,
      "outputs": []
    },
    {
      "cell_type": "code",
      "source": [
        "model.fit(x_train,y_train.values.ravel())"
      ],
      "metadata": {
        "id": "ZV2AkxSixWUL"
      },
      "execution_count": null,
      "outputs": []
    },
    {
      "cell_type": "code",
      "source": [
        "x_new=np.array([[5,9,1000,3,120,12,3]])\n",
        "pred_traf=model.predict(x_new)"
      ],
      "metadata": {
        "colab": {
          "base_uri": "https://localhost:8080/",
          "height": 418
        },
        "id": "SsxtfUzUxeEx",
        "outputId": "ac47bc5a-cb38-4689-b589-d433b1273d0d"
      },
      "execution_count": 88,
      "outputs": [
        {
          "output_type": "stream",
          "name": "stderr",
          "text": [
            "/usr/local/lib/python3.9/dist-packages/sklearn/base.py:439: UserWarning: X does not have valid feature names, but LogisticRegression was fitted with feature names\n",
            "  warnings.warn(\n"
          ]
        },
        {
          "output_type": "error",
          "ename": "AttributeError",
          "evalue": "ignored",
          "traceback": [
            "\u001b[0;31m---------------------------------------------------------------------------\u001b[0m",
            "\u001b[0;31mAttributeError\u001b[0m                            Traceback (most recent call last)",
            "\u001b[0;32m<ipython-input-88-b3cc00b824cf>\u001b[0m in \u001b[0;36m<cell line: 2>\u001b[0;34m()\u001b[0m\n\u001b[1;32m      1\u001b[0m \u001b[0mx_new\u001b[0m\u001b[0;34m=\u001b[0m\u001b[0mnp\u001b[0m\u001b[0;34m.\u001b[0m\u001b[0marray\u001b[0m\u001b[0;34m(\u001b[0m\u001b[0;34m[\u001b[0m\u001b[0;34m[\u001b[0m\u001b[0;36m5\u001b[0m\u001b[0;34m,\u001b[0m\u001b[0;36m9\u001b[0m\u001b[0;34m,\u001b[0m\u001b[0;36m1000\u001b[0m\u001b[0;34m,\u001b[0m\u001b[0;36m3\u001b[0m\u001b[0;34m,\u001b[0m\u001b[0;36m120\u001b[0m\u001b[0;34m,\u001b[0m\u001b[0;36m12\u001b[0m\u001b[0;34m,\u001b[0m\u001b[0;36m3\u001b[0m\u001b[0;34m]\u001b[0m\u001b[0;34m]\u001b[0m\u001b[0;34m)\u001b[0m\u001b[0;34m\u001b[0m\u001b[0;34m\u001b[0m\u001b[0m\n\u001b[0;32m----> 2\u001b[0;31m \u001b[0mpred_traf\u001b[0m\u001b[0;34m=\u001b[0m\u001b[0mmodel\u001b[0m\u001b[0;34m.\u001b[0m\u001b[0mpredict\u001b[0m\u001b[0;34m(\u001b[0m\u001b[0mx_new\u001b[0m\u001b[0;34m)\u001b[0m\u001b[0;34m\u001b[0m\u001b[0;34m\u001b[0m\u001b[0m\n\u001b[0m",
            "\u001b[0;32m/usr/local/lib/python3.9/dist-packages/sklearn/linear_model/_base.py\u001b[0m in \u001b[0;36mpredict\u001b[0;34m(self, X)\u001b[0m\n\u001b[1;32m    417\u001b[0m         \"\"\"\n\u001b[1;32m    418\u001b[0m         \u001b[0mxp\u001b[0m\u001b[0;34m,\u001b[0m \u001b[0m_\u001b[0m \u001b[0;34m=\u001b[0m \u001b[0mget_namespace\u001b[0m\u001b[0;34m(\u001b[0m\u001b[0mX\u001b[0m\u001b[0;34m)\u001b[0m\u001b[0;34m\u001b[0m\u001b[0;34m\u001b[0m\u001b[0m\n\u001b[0;32m--> 419\u001b[0;31m         \u001b[0mscores\u001b[0m \u001b[0;34m=\u001b[0m \u001b[0mself\u001b[0m\u001b[0;34m.\u001b[0m\u001b[0mdecision_function\u001b[0m\u001b[0;34m(\u001b[0m\u001b[0mX\u001b[0m\u001b[0;34m)\u001b[0m\u001b[0;34m\u001b[0m\u001b[0;34m\u001b[0m\u001b[0m\n\u001b[0m\u001b[1;32m    420\u001b[0m         \u001b[0;32mif\u001b[0m \u001b[0mlen\u001b[0m\u001b[0;34m(\u001b[0m\u001b[0mscores\u001b[0m\u001b[0;34m.\u001b[0m\u001b[0mshape\u001b[0m\u001b[0;34m)\u001b[0m \u001b[0;34m==\u001b[0m \u001b[0;36m1\u001b[0m\u001b[0;34m:\u001b[0m\u001b[0;34m\u001b[0m\u001b[0;34m\u001b[0m\u001b[0m\n\u001b[1;32m    421\u001b[0m             \u001b[0mindices\u001b[0m \u001b[0;34m=\u001b[0m \u001b[0mxp\u001b[0m\u001b[0;34m.\u001b[0m\u001b[0mastype\u001b[0m\u001b[0;34m(\u001b[0m\u001b[0mscores\u001b[0m \u001b[0;34m>\u001b[0m \u001b[0;36m0\u001b[0m\u001b[0;34m,\u001b[0m \u001b[0mint\u001b[0m\u001b[0;34m)\u001b[0m\u001b[0;34m\u001b[0m\u001b[0;34m\u001b[0m\u001b[0m\n",
            "\u001b[0;32m/usr/local/lib/python3.9/dist-packages/sklearn/linear_model/_base.py\u001b[0m in \u001b[0;36mdecision_function\u001b[0;34m(self, X)\u001b[0m\n\u001b[1;32m    399\u001b[0m \u001b[0;34m\u001b[0m\u001b[0m\n\u001b[1;32m    400\u001b[0m         \u001b[0mX\u001b[0m \u001b[0;34m=\u001b[0m \u001b[0mself\u001b[0m\u001b[0;34m.\u001b[0m\u001b[0m_validate_data\u001b[0m\u001b[0;34m(\u001b[0m\u001b[0mX\u001b[0m\u001b[0;34m,\u001b[0m \u001b[0maccept_sparse\u001b[0m\u001b[0;34m=\u001b[0m\u001b[0;34m\"csr\"\u001b[0m\u001b[0;34m,\u001b[0m \u001b[0mreset\u001b[0m\u001b[0;34m=\u001b[0m\u001b[0;32mFalse\u001b[0m\u001b[0;34m)\u001b[0m\u001b[0;34m\u001b[0m\u001b[0;34m\u001b[0m\u001b[0m\n\u001b[0;32m--> 401\u001b[0;31m         \u001b[0mscores\u001b[0m \u001b[0;34m=\u001b[0m \u001b[0msafe_sparse_dot\u001b[0m\u001b[0;34m(\u001b[0m\u001b[0mX\u001b[0m\u001b[0;34m,\u001b[0m \u001b[0mself\u001b[0m\u001b[0;34m.\u001b[0m\u001b[0mcoef_\u001b[0m\u001b[0;34m.\u001b[0m\u001b[0mT\u001b[0m\u001b[0;34m,\u001b[0m \u001b[0mdense_output\u001b[0m\u001b[0;34m=\u001b[0m\u001b[0;32mTrue\u001b[0m\u001b[0;34m)\u001b[0m \u001b[0;34m+\u001b[0m \u001b[0mself\u001b[0m\u001b[0;34m.\u001b[0m\u001b[0mintercept_\u001b[0m\u001b[0;34m\u001b[0m\u001b[0;34m\u001b[0m\u001b[0m\n\u001b[0m\u001b[1;32m    402\u001b[0m         \u001b[0;32mreturn\u001b[0m \u001b[0mxp\u001b[0m\u001b[0;34m.\u001b[0m\u001b[0mreshape\u001b[0m\u001b[0;34m(\u001b[0m\u001b[0mscores\u001b[0m\u001b[0;34m,\u001b[0m \u001b[0;34m-\u001b[0m\u001b[0;36m1\u001b[0m\u001b[0;34m)\u001b[0m \u001b[0;32mif\u001b[0m \u001b[0mscores\u001b[0m\u001b[0;34m.\u001b[0m\u001b[0mshape\u001b[0m\u001b[0;34m[\u001b[0m\u001b[0;36m1\u001b[0m\u001b[0;34m]\u001b[0m \u001b[0;34m==\u001b[0m \u001b[0;36m1\u001b[0m \u001b[0;32melse\u001b[0m \u001b[0mscores\u001b[0m\u001b[0;34m\u001b[0m\u001b[0;34m\u001b[0m\u001b[0m\n\u001b[1;32m    403\u001b[0m \u001b[0;34m\u001b[0m\u001b[0m\n",
            "\u001b[0;31mAttributeError\u001b[0m: 'LogisticRegression' object has no attribute 'coef_'"
          ]
        }
      ]
    },
    {
      "cell_type": "code",
      "source": [
        "if pred_traf==0:\n",
        "pred_traf='Traffic is Smooth'\n",
        "elif pred_traf==1:\n",
        "pred_traf='Traffic is Highly Congested'\n",
        "elif pred_traf==2:\n",
        "pred_traf='Traffic is Slightly Congested'\n",
        "elif pred_traf==3:\n",
        "pred_traf='Traffic is Congested'\n",
        "elif pred_traf==4:\n",
        "pred_traf='Traffic is Blockage'"
      ],
      "metadata": {
        "colab": {
          "base_uri": "https://localhost:8080/",
          "height": 131
        },
        "id": "lidsiZ6egNKJ",
        "outputId": "c60042e9-b5f4-4167-9b57-c61fd46c5537"
      },
      "execution_count": 86,
      "outputs": [
        {
          "output_type": "error",
          "ename": "IndentationError",
          "evalue": "ignored",
          "traceback": [
            "\u001b[0;36m  File \u001b[0;32m\"<ipython-input-86-55e64ad70ee5>\"\u001b[0;36m, line \u001b[0;32m2\u001b[0m\n\u001b[0;31m    pred_traf='Traffic is Smooth'\u001b[0m\n\u001b[0m    ^\u001b[0m\n\u001b[0;31mIndentationError\u001b[0m\u001b[0;31m:\u001b[0m expected an indented block\n"
          ]
        }
      ]
    },
    {
      "cell_type": "code",
      "source": [
        "print(pred_traf)"
      ],
      "metadata": {
        "colab": {
          "base_uri": "https://localhost:8080/",
          "height": 166
        },
        "id": "a7uVQr6Wjr_s",
        "outputId": "1a4e92e0-63d3-4d1a-9639-3e1e7f67787d"
      },
      "execution_count": 56,
      "outputs": [
        {
          "output_type": "error",
          "ename": "NameError",
          "evalue": "ignored",
          "traceback": [
            "\u001b[0;31m---------------------------------------------------------------------------\u001b[0m",
            "\u001b[0;31mNameError\u001b[0m                                 Traceback (most recent call last)",
            "\u001b[0;32m<ipython-input-56-816898f27beb>\u001b[0m in \u001b[0;36m<cell line: 1>\u001b[0;34m()\u001b[0m\n\u001b[0;32m----> 1\u001b[0;31m \u001b[0mprint\u001b[0m\u001b[0;34m(\u001b[0m\u001b[0mpred_traf\u001b[0m\u001b[0;34m)\u001b[0m\u001b[0;34m\u001b[0m\u001b[0;34m\u001b[0m\u001b[0m\n\u001b[0m",
            "\u001b[0;31mNameError\u001b[0m: name 'pred_traf' is not defined"
          ]
        }
      ]
    }
  ]
}